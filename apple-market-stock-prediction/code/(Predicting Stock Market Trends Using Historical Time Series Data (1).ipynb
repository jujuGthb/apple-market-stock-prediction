{
 "cells": [
  {
   "cell_type": "markdown",
   "id": "3b844a84-40d3-4785-a41d-1bae2064ca4e",
   "metadata": {},
   "source": [
    "# Predicting Stock Market Trends Using Historical Time Series Data"
   ]
  },
  {
   "cell_type": "markdown",
   "id": "6ae396b4-8e31-499c-81cf-b476d264579a",
   "metadata": {},
   "source": [
    "### Step 1: Data Collection (Scraping from Yahoo Finance)\n"
   ]
  },
  {
   "cell_type": "markdown",
   "id": "9317e44c-4162-4109-8f64-d01b3f1675d9",
   "metadata": {},
   "source": [
    "##### Install yfinance"
   ]
  },
  {
   "cell_type": "code",
   "execution_count": 1,
   "id": "3d858cc2-555a-41b9-aec1-ce8427ef5321",
   "metadata": {},
   "outputs": [
    {
     "name": "stdout",
     "output_type": "stream",
     "text": [
      "Active code page: 1252\n",
      "Requirement already satisfied: yfinance in c:\\users\\thinkpad\\appdata\\local\\programs\\python\\python311\\lib\\site-packages (0.2.49)\n",
      "Requirement already satisfied: pandas>=1.3.0 in c:\\users\\thinkpad\\appdata\\local\\programs\\python\\python311\\lib\\site-packages (from yfinance) (2.2.3)\n",
      "Requirement already satisfied: numpy>=1.16.5 in c:\\users\\thinkpad\\appdata\\local\\programs\\python\\python311\\lib\\site-packages (from yfinance) (2.1.2)\n",
      "Requirement already satisfied: requests>=2.31 in c:\\users\\thinkpad\\appdata\\local\\programs\\python\\python311\\lib\\site-packages (from yfinance) (2.31.0)\n",
      "Requirement already satisfied: multitasking>=0.0.7 in c:\\users\\thinkpad\\appdata\\local\\programs\\python\\python311\\lib\\site-packages (from yfinance) (0.0.11)\n",
      "Requirement already satisfied: lxml>=4.9.1 in c:\\users\\thinkpad\\appdata\\local\\programs\\python\\python311\\lib\\site-packages (from yfinance) (5.3.0)\n",
      "Requirement already satisfied: platformdirs>=2.0.0 in c:\\users\\thinkpad\\appdata\\local\\programs\\python\\python311\\lib\\site-packages (from yfinance) (4.2.1)\n",
      "Requirement already satisfied: pytz>=2022.5 in c:\\users\\thinkpad\\appdata\\local\\programs\\python\\python311\\lib\\site-packages (from yfinance) (2024.2)\n",
      "Requirement already satisfied: frozendict>=2.3.4 in c:\\users\\thinkpad\\appdata\\local\\programs\\python\\python311\\lib\\site-packages (from yfinance) (2.4.6)\n",
      "Requirement already satisfied: peewee>=3.16.2 in c:\\users\\thinkpad\\appdata\\local\\programs\\python\\python311\\lib\\site-packages (from yfinance) (3.17.8)\n",
      "Requirement already satisfied: beautifulsoup4>=4.11.1 in c:\\users\\thinkpad\\appdata\\local\\programs\\python\\python311\\lib\\site-packages (from yfinance) (4.12.3)\n",
      "Requirement already satisfied: html5lib>=1.1 in c:\\users\\thinkpad\\appdata\\local\\programs\\python\\python311\\lib\\site-packages (from yfinance) (1.1)\n",
      "Requirement already satisfied: soupsieve>1.2 in c:\\users\\thinkpad\\appdata\\local\\programs\\python\\python311\\lib\\site-packages (from beautifulsoup4>=4.11.1->yfinance) (2.5)\n",
      "Requirement already satisfied: six>=1.9 in c:\\users\\thinkpad\\appdata\\local\\programs\\python\\python311\\lib\\site-packages (from html5lib>=1.1->yfinance) (1.16.0)\n",
      "Requirement already satisfied: webencodings in c:\\users\\thinkpad\\appdata\\local\\programs\\python\\python311\\lib\\site-packages (from html5lib>=1.1->yfinance) (0.5.1)\n",
      "Requirement already satisfied: python-dateutil>=2.8.2 in c:\\users\\thinkpad\\appdata\\local\\programs\\python\\python311\\lib\\site-packages (from pandas>=1.3.0->yfinance) (2.9.0.post0)\n",
      "Requirement already satisfied: tzdata>=2022.7 in c:\\users\\thinkpad\\appdata\\local\\programs\\python\\python311\\lib\\site-packages (from pandas>=1.3.0->yfinance) (2024.2)\n",
      "Requirement already satisfied: charset-normalizer<4,>=2 in c:\\users\\thinkpad\\appdata\\local\\programs\\python\\python311\\lib\\site-packages (from requests>=2.31->yfinance) (3.3.2)\n",
      "Requirement already satisfied: idna<4,>=2.5 in c:\\users\\thinkpad\\appdata\\local\\programs\\python\\python311\\lib\\site-packages (from requests>=2.31->yfinance) (3.7)\n",
      "Requirement already satisfied: urllib3<3,>=1.21.1 in c:\\users\\thinkpad\\appdata\\local\\programs\\python\\python311\\lib\\site-packages (from requests>=2.31->yfinance) (2.2.1)\n",
      "Requirement already satisfied: certifi>=2017.4.17 in c:\\users\\thinkpad\\appdata\\local\\programs\\python\\python311\\lib\\site-packages (from requests>=2.31->yfinance) (2024.2.2)\n"
     ]
    }
   ],
   "source": [
    "!pip install --upgrade yfinance\n"
   ]
  },
  {
   "cell_type": "markdown",
   "id": "92e6323e-080b-4c5d-a410-c169f1d1abe0",
   "metadata": {},
   "source": [
    "##### Import necessary libraries"
   ]
  },
  {
   "cell_type": "code",
   "execution_count": 2,
   "id": "834eec97-3a6d-479f-8cfe-ef00c71a058e",
   "metadata": {},
   "outputs": [],
   "source": [
    "import yfinance as yf\n",
    "import time\n",
    "import pandas as pd\n",
    "import seaborn as sns\n",
    "import matplotlib.pyplot as plt\n",
    "from sklearn.preprocessing import StandardScaler\n",
    "\n",
    "\n",
    "\n"
   ]
  },
  {
   "cell_type": "markdown",
   "id": "6340e1f3-f90e-4df5-8e05-ce0af1090f95",
   "metadata": {},
   "source": [
    "##### Using yfinance for Data Collection\n"
   ]
  },
  {
   "cell_type": "code",
   "execution_count": 3,
   "id": "6fde5028-e2a5-44c6-8d88-97401d3244c7",
   "metadata": {},
   "outputs": [
    {
     "name": "stderr",
     "output_type": "stream",
     "text": [
      "[*********************100%***********************]  1 of 1 completed"
     ]
    },
    {
     "name": "stdout",
     "output_type": "stream",
     "text": [
      "Download successful!\n"
     ]
    },
    {
     "name": "stderr",
     "output_type": "stream",
     "text": [
      "\n"
     ]
    }
   ],
   "source": [
    "\n",
    "def download_data_with_retry(ticker, start, end, interval, max_retries=5, delay=5):\n",
    "    for attempt in range(max_retries):\n",
    "        try:\n",
    "            data = yf.download(ticker, start=start, end=end, interval=interval)\n",
    "            \n",
    "\n",
    "            print(\"Download successful!\")\n",
    "            return data\n",
    "        except Exception as e:\n",
    "            print(f\"Attempt {attempt + 1} failed: {e}\")\n",
    "            time.sleep(delay)\n",
    "    print(\"All retry attempts failed.\")\n",
    "    return None\n",
    "\n",
    "# Define parameters\n",
    "ticker = 'AAPL'\n",
    "start_date = '2004-01-01'\n",
    "end_date = '2024-01-01'\n",
    "interval = '1d'\n",
    "\n",
    "# Download data with retry\n",
    "data = download_data_with_retry(ticker, start_date, end_date, interval)\n",
    "\n",
    "                                \n",
    "\n"
   ]
  },
  {
   "cell_type": "markdown",
   "id": "fe1e57e4-ffa3-4103-a473-4732e0e14da1",
   "metadata": {},
   "source": [
    "##### Check the records number "
   ]
  },
  {
   "cell_type": "code",
   "execution_count": 4,
   "id": "8bb86a10-28e8-4739-8aba-9847ec270a58",
   "metadata": {},
   "outputs": [
    {
     "name": "stdout",
     "output_type": "stream",
     "text": [
      "Number of records downloaded: 5033\n"
     ]
    }
   ],
   "source": [
    "if data is not None:\n",
    "    print(f\"Number of records downloaded: {len(data)}\")\n",
    "else:\n",
    "    print(\"Data download failed.\")"
   ]
  },
  {
   "cell_type": "markdown",
   "id": "a786992f-cb07-4e10-ae0c-957033c15b72",
   "metadata": {},
   "source": [
    "#####  Rename Columns:"
   ]
  },
  {
   "cell_type": "code",
   "execution_count": 19,
   "id": "0d26dfb8-1145-4f9b-a83a-12fe8e4250b2",
   "metadata": {},
   "outputs": [],
   "source": [
    "# Check if the DataFrame has MultiIndex columns\n",
    "if isinstance(data.columns, pd.MultiIndex):\n",
    "    # Flatten the MultiIndex (dropping the first level if needed)\n",
    "    data.columns = data.columns.droplevel(0)\n",
    "\n",
    "# After flattening, ensure the number of columns matches the number of new column names\n",
    "data.columns = ['Open', 'High', 'Low', 'Close', 'Adj Close', 'Volume', 'OtherColumn']\n"
   ]
  },
  {
   "cell_type": "markdown",
   "id": "916ca9f8-abf3-4fc5-96cc-4ebdba5397e7",
   "metadata": {},
   "source": [
    "#####  Save the data to a CSV file"
   ]
  },
  {
   "cell_type": "code",
   "execution_count": 20,
   "id": "ec4130de-a42d-4b18-8b59-ddeafe716854",
   "metadata": {},
   "outputs": [],
   "source": [
    "data.to_csv('AAPL_stock_data.csv')"
   ]
  },
  {
   "cell_type": "markdown",
   "id": "c89b6672-64fc-4a6d-beae-c38efb5c667a",
   "metadata": {},
   "source": [
    " ##### Display the Data"
   ]
  },
  {
   "cell_type": "code",
   "execution_count": 21,
   "id": "65fe74e3-585c-4daa-831d-51c1e1f8a790",
   "metadata": {},
   "outputs": [
    {
     "data": {
      "text/html": [
       "<div>\n",
       "<style scoped>\n",
       "    .dataframe tbody tr th:only-of-type {\n",
       "        vertical-align: middle;\n",
       "    }\n",
       "\n",
       "    .dataframe tbody tr th {\n",
       "        vertical-align: top;\n",
       "    }\n",
       "\n",
       "    .dataframe thead th {\n",
       "        text-align: right;\n",
       "    }\n",
       "</style>\n",
       "<table border=\"1\" class=\"dataframe\">\n",
       "  <thead>\n",
       "    <tr style=\"text-align: right;\">\n",
       "      <th></th>\n",
       "      <th>Open</th>\n",
       "      <th>High</th>\n",
       "      <th>Low</th>\n",
       "      <th>Close</th>\n",
       "      <th>Adj Close</th>\n",
       "      <th>Volume</th>\n",
       "      <th>OtherColumn</th>\n",
       "    </tr>\n",
       "    <tr>\n",
       "      <th>Date</th>\n",
       "      <th></th>\n",
       "      <th></th>\n",
       "      <th></th>\n",
       "      <th></th>\n",
       "      <th></th>\n",
       "      <th></th>\n",
       "      <th></th>\n",
       "    </tr>\n",
       "  </thead>\n",
       "  <tbody>\n",
       "    <tr>\n",
       "      <th>2004-01-02 00:00:00+00:00</th>\n",
       "      <td>0.320548</td>\n",
       "      <td>0.380000</td>\n",
       "      <td>0.388393</td>\n",
       "      <td>0.378214</td>\n",
       "      <td>0.384821</td>\n",
       "      <td>144642400</td>\n",
       "      <td>NaN</td>\n",
       "    </tr>\n",
       "    <tr>\n",
       "      <th>2004-01-05 00:00:00+00:00</th>\n",
       "      <td>0.333954</td>\n",
       "      <td>0.395893</td>\n",
       "      <td>0.399821</td>\n",
       "      <td>0.382500</td>\n",
       "      <td>0.382500</td>\n",
       "      <td>395018400</td>\n",
       "      <td>NaN</td>\n",
       "    </tr>\n",
       "    <tr>\n",
       "      <th>2004-01-06 00:00:00+00:00</th>\n",
       "      <td>0.332749</td>\n",
       "      <td>0.394464</td>\n",
       "      <td>0.400357</td>\n",
       "      <td>0.387679</td>\n",
       "      <td>0.397321</td>\n",
       "      <td>509348000</td>\n",
       "      <td>NaN</td>\n",
       "    </tr>\n",
       "    <tr>\n",
       "      <th>2004-01-07 00:00:00+00:00</th>\n",
       "      <td>0.340281</td>\n",
       "      <td>0.403393</td>\n",
       "      <td>0.407679</td>\n",
       "      <td>0.391607</td>\n",
       "      <td>0.394643</td>\n",
       "      <td>586874400</td>\n",
       "      <td>NaN</td>\n",
       "    </tr>\n",
       "    <tr>\n",
       "      <th>2004-01-08 00:00:00+00:00</th>\n",
       "      <td>0.351880</td>\n",
       "      <td>0.417143</td>\n",
       "      <td>0.423750</td>\n",
       "      <td>0.404464</td>\n",
       "      <td>0.407857</td>\n",
       "      <td>460303200</td>\n",
       "      <td>NaN</td>\n",
       "    </tr>\n",
       "  </tbody>\n",
       "</table>\n",
       "</div>"
      ],
      "text/plain": [
       "                               Open      High       Low     Close  Adj Close  \\\n",
       "Date                                                                           \n",
       "2004-01-02 00:00:00+00:00  0.320548  0.380000  0.388393  0.378214   0.384821   \n",
       "2004-01-05 00:00:00+00:00  0.333954  0.395893  0.399821  0.382500   0.382500   \n",
       "2004-01-06 00:00:00+00:00  0.332749  0.394464  0.400357  0.387679   0.397321   \n",
       "2004-01-07 00:00:00+00:00  0.340281  0.403393  0.407679  0.391607   0.394643   \n",
       "2004-01-08 00:00:00+00:00  0.351880  0.417143  0.423750  0.404464   0.407857   \n",
       "\n",
       "                              Volume  OtherColumn  \n",
       "Date                                               \n",
       "2004-01-02 00:00:00+00:00  144642400          NaN  \n",
       "2004-01-05 00:00:00+00:00  395018400          NaN  \n",
       "2004-01-06 00:00:00+00:00  509348000          NaN  \n",
       "2004-01-07 00:00:00+00:00  586874400          NaN  \n",
       "2004-01-08 00:00:00+00:00  460303200          NaN  "
      ]
     },
     "execution_count": 21,
     "metadata": {},
     "output_type": "execute_result"
    }
   ],
   "source": [
    "data.head()\n"
   ]
  },
  {
   "cell_type": "code",
   "execution_count": 22,
   "id": "c4d5127b-e1a1-422e-834d-b07a04f058f3",
   "metadata": {},
   "outputs": [
    {
     "data": {
      "text/html": [
       "<div>\n",
       "<style scoped>\n",
       "    .dataframe tbody tr th:only-of-type {\n",
       "        vertical-align: middle;\n",
       "    }\n",
       "\n",
       "    .dataframe tbody tr th {\n",
       "        vertical-align: top;\n",
       "    }\n",
       "\n",
       "    .dataframe thead th {\n",
       "        text-align: right;\n",
       "    }\n",
       "</style>\n",
       "<table border=\"1\" class=\"dataframe\">\n",
       "  <thead>\n",
       "    <tr style=\"text-align: right;\">\n",
       "      <th></th>\n",
       "      <th>Open</th>\n",
       "      <th>High</th>\n",
       "      <th>Low</th>\n",
       "      <th>Close</th>\n",
       "      <th>Adj Close</th>\n",
       "      <th>Volume</th>\n",
       "      <th>OtherColumn</th>\n",
       "    </tr>\n",
       "    <tr>\n",
       "      <th>Date</th>\n",
       "      <th></th>\n",
       "      <th></th>\n",
       "      <th></th>\n",
       "      <th></th>\n",
       "      <th></th>\n",
       "      <th></th>\n",
       "      <th></th>\n",
       "    </tr>\n",
       "  </thead>\n",
       "  <tbody>\n",
       "    <tr>\n",
       "      <th>2020-09-24 00:00:00+00:00</th>\n",
       "      <td>105.641212</td>\n",
       "      <td>108.220001</td>\n",
       "      <td>110.250000</td>\n",
       "      <td>105.000000</td>\n",
       "      <td>105.169998</td>\n",
       "      <td>167743300</td>\n",
       "      <td>6.331734</td>\n",
       "    </tr>\n",
       "    <tr>\n",
       "      <th>2020-09-25 00:00:00+00:00</th>\n",
       "      <td>109.604454</td>\n",
       "      <td>112.279999</td>\n",
       "      <td>112.440002</td>\n",
       "      <td>107.669998</td>\n",
       "      <td>108.430000</td>\n",
       "      <td>149981400</td>\n",
       "      <td>5.749855</td>\n",
       "    </tr>\n",
       "    <tr>\n",
       "      <th>2020-10-30 00:00:00+00:00</th>\n",
       "      <td>106.265961</td>\n",
       "      <td>108.860001</td>\n",
       "      <td>111.989998</td>\n",
       "      <td>107.720001</td>\n",
       "      <td>111.059998</td>\n",
       "      <td>190272600</td>\n",
       "      <td>4.965905</td>\n",
       "    </tr>\n",
       "    <tr>\n",
       "      <th>2020-11-02 00:00:00+00:00</th>\n",
       "      <td>106.178108</td>\n",
       "      <td>108.769997</td>\n",
       "      <td>110.680000</td>\n",
       "      <td>107.320000</td>\n",
       "      <td>109.110001</td>\n",
       "      <td>122866900</td>\n",
       "      <td>3.975263</td>\n",
       "    </tr>\n",
       "    <tr>\n",
       "      <th>2020-11-03 00:00:00+00:00</th>\n",
       "      <td>107.808311</td>\n",
       "      <td>110.440002</td>\n",
       "      <td>111.489998</td>\n",
       "      <td>108.730003</td>\n",
       "      <td>109.660004</td>\n",
       "      <td>107624400</td>\n",
       "      <td>2.468189</td>\n",
       "    </tr>\n",
       "  </tbody>\n",
       "</table>\n",
       "</div>"
      ],
      "text/plain": [
       "                                 Open        High         Low       Close  \\\n",
       "Date                                                                        \n",
       "2020-09-24 00:00:00+00:00  105.641212  108.220001  110.250000  105.000000   \n",
       "2020-09-25 00:00:00+00:00  109.604454  112.279999  112.440002  107.669998   \n",
       "2020-10-30 00:00:00+00:00  106.265961  108.860001  111.989998  107.720001   \n",
       "2020-11-02 00:00:00+00:00  106.178108  108.769997  110.680000  107.320000   \n",
       "2020-11-03 00:00:00+00:00  107.808311  110.440002  111.489998  108.730003   \n",
       "\n",
       "                            Adj Close     Volume  OtherColumn  \n",
       "Date                                                           \n",
       "2020-09-24 00:00:00+00:00  105.169998  167743300     6.331734  \n",
       "2020-09-25 00:00:00+00:00  108.430000  149981400     5.749855  \n",
       "2020-10-30 00:00:00+00:00  111.059998  190272600     4.965905  \n",
       "2020-11-02 00:00:00+00:00  109.110001  122866900     3.975263  \n",
       "2020-11-03 00:00:00+00:00  109.660004  107624400     2.468189  "
      ]
     },
     "execution_count": 22,
     "metadata": {},
     "output_type": "execute_result"
    }
   ],
   "source": [
    "data.tail()"
   ]
  },
  {
   "cell_type": "markdown",
   "id": "afef2c42-8263-4a2e-99a8-60f2feb1c662",
   "metadata": {},
   "source": [
    "####  Step 2 :  Data Preprocessing"
   ]
  },
  {
   "cell_type": "code",
   "execution_count": 12,
   "id": "8693dbe7-9711-4494-b25f-c1771083587e",
   "metadata": {},
   "outputs": [
    {
     "name": "stdout",
     "output_type": "stream",
     "text": [
      "<class 'pandas.core.frame.DataFrame'>\n",
      "DatetimeIndex: 5033 entries, 2004-01-02 00:00:00+00:00 to 2023-12-29 00:00:00+00:00\n",
      "Data columns (total 6 columns):\n",
      " #   Column     Non-Null Count  Dtype  \n",
      "---  ------     --------------  -----  \n",
      " 0   Open       5033 non-null   float64\n",
      " 1   High       5033 non-null   float64\n",
      " 2   Low        5033 non-null   float64\n",
      " 3   Close      5033 non-null   float64\n",
      " 4   Adj Close  5033 non-null   float64\n",
      " 5   Volume     5033 non-null   int64  \n",
      "dtypes: float64(5), int64(1)\n",
      "memory usage: 275.2 KB\n",
      "None\n",
      "Open         0\n",
      "High         0\n",
      "Low          0\n",
      "Close        0\n",
      "Adj Close    0\n",
      "Volume       0\n",
      "dtype: int64\n"
     ]
    }
   ],
   "source": [
    "\n",
    "# Load the data\n",
    "data = pd.read_csv('AAPL_stock_data.csv', parse_dates=['Date'], index_col='Date')\n",
    "\n",
    "# Inspect the data\n",
    "print(data.info())  # Check for missing values, column types, etc.\n",
    "\n",
    "# Check for missing values\n",
    "print(data.isnull().sum())\n",
    "\n",
    "# Handle missing values using forward fill\n",
    "data = data.ffill()\n",
    "\n",
    "# Detect and remove outliers (using IQR as an example)\n",
    "Q1 = data['Close'].quantile(0.25)\n",
    "Q3 = data['Close'].quantile(0.75)\n",
    "IQR = Q3 - Q1\n",
    "data = data[(data['Close'] >= (Q1 - 1.5 * IQR)) & (data['Close'] <= (Q3 + 1.5 * IQR))]\n",
    "\n",
    "# Scaling\n",
    "scaler = StandardScaler()\n",
    "scaled_data = pd.DataFrame(scaler.fit_transform(data), columns=data.columns, index=data.index)\n"
   ]
  },
  {
   "cell_type": "code",
   "execution_count": 13,
   "id": "f5ee07da-90f0-4312-bfd4-34de675d2477",
   "metadata": {},
   "outputs": [
    {
     "data": {
      "text/html": [
       "<div>\n",
       "<style scoped>\n",
       "    .dataframe tbody tr th:only-of-type {\n",
       "        vertical-align: middle;\n",
       "    }\n",
       "\n",
       "    .dataframe tbody tr th {\n",
       "        vertical-align: top;\n",
       "    }\n",
       "\n",
       "    .dataframe thead th {\n",
       "        text-align: right;\n",
       "    }\n",
       "</style>\n",
       "<table border=\"1\" class=\"dataframe\">\n",
       "  <thead>\n",
       "    <tr style=\"text-align: right;\">\n",
       "      <th></th>\n",
       "      <th>Open</th>\n",
       "      <th>High</th>\n",
       "      <th>Low</th>\n",
       "      <th>Close</th>\n",
       "      <th>Adj Close</th>\n",
       "      <th>Volume</th>\n",
       "    </tr>\n",
       "    <tr>\n",
       "      <th>Date</th>\n",
       "      <th></th>\n",
       "      <th></th>\n",
       "      <th></th>\n",
       "      <th></th>\n",
       "      <th></th>\n",
       "      <th></th>\n",
       "    </tr>\n",
       "  </thead>\n",
       "  <tbody>\n",
       "    <tr>\n",
       "      <th>2004-01-02 00:00:00+00:00</th>\n",
       "      <td>0.320548</td>\n",
       "      <td>0.380000</td>\n",
       "      <td>0.388393</td>\n",
       "      <td>0.378214</td>\n",
       "      <td>0.384821</td>\n",
       "      <td>144642400</td>\n",
       "    </tr>\n",
       "    <tr>\n",
       "      <th>2004-01-05 00:00:00+00:00</th>\n",
       "      <td>0.333954</td>\n",
       "      <td>0.395893</td>\n",
       "      <td>0.399821</td>\n",
       "      <td>0.382500</td>\n",
       "      <td>0.382500</td>\n",
       "      <td>395018400</td>\n",
       "    </tr>\n",
       "    <tr>\n",
       "      <th>2004-01-06 00:00:00+00:00</th>\n",
       "      <td>0.332749</td>\n",
       "      <td>0.394464</td>\n",
       "      <td>0.400357</td>\n",
       "      <td>0.387679</td>\n",
       "      <td>0.397321</td>\n",
       "      <td>509348000</td>\n",
       "    </tr>\n",
       "    <tr>\n",
       "      <th>2004-01-07 00:00:00+00:00</th>\n",
       "      <td>0.340281</td>\n",
       "      <td>0.403393</td>\n",
       "      <td>0.407679</td>\n",
       "      <td>0.391607</td>\n",
       "      <td>0.394643</td>\n",
       "      <td>586874400</td>\n",
       "    </tr>\n",
       "    <tr>\n",
       "      <th>2004-01-08 00:00:00+00:00</th>\n",
       "      <td>0.351880</td>\n",
       "      <td>0.417143</td>\n",
       "      <td>0.423750</td>\n",
       "      <td>0.404464</td>\n",
       "      <td>0.407857</td>\n",
       "      <td>460303200</td>\n",
       "    </tr>\n",
       "  </tbody>\n",
       "</table>\n",
       "</div>"
      ],
      "text/plain": [
       "                               Open      High       Low     Close  Adj Close  \\\n",
       "Date                                                                           \n",
       "2004-01-02 00:00:00+00:00  0.320548  0.380000  0.388393  0.378214   0.384821   \n",
       "2004-01-05 00:00:00+00:00  0.333954  0.395893  0.399821  0.382500   0.382500   \n",
       "2004-01-06 00:00:00+00:00  0.332749  0.394464  0.400357  0.387679   0.397321   \n",
       "2004-01-07 00:00:00+00:00  0.340281  0.403393  0.407679  0.391607   0.394643   \n",
       "2004-01-08 00:00:00+00:00  0.351880  0.417143  0.423750  0.404464   0.407857   \n",
       "\n",
       "                              Volume  \n",
       "Date                                  \n",
       "2004-01-02 00:00:00+00:00  144642400  \n",
       "2004-01-05 00:00:00+00:00  395018400  \n",
       "2004-01-06 00:00:00+00:00  509348000  \n",
       "2004-01-07 00:00:00+00:00  586874400  \n",
       "2004-01-08 00:00:00+00:00  460303200  "
      ]
     },
     "execution_count": 13,
     "metadata": {},
     "output_type": "execute_result"
    }
   ],
   "source": [
    "data.head()"
   ]
  },
  {
   "cell_type": "markdown",
   "id": "933058fb-5f3d-4261-b4f9-da8a757ad8e5",
   "metadata": {},
   "source": [
    "#### Step 3 : Exploratory Data Analysis (EDA)"
   ]
  },
  {
   "cell_type": "code",
   "execution_count": 14,
   "id": "17da9d0b-e241-4597-a21a-59f0cbb93a00",
   "metadata": {},
   "outputs": [
    {
     "data": {
      "image/png": "[encoded data removed]",
      "text/plain": [
       "<Figure size 1000x800 with 2 Axes>"
      ]
     },
     "metadata": {},
     "output_type": "display_data"
    }
   ],
   "source": [
    "\n",
    "\n",
    "# Correlation heatmap\n",
    "plt.figure(figsize=(10, 8))\n",
    "sns.heatmap(data.corr(), annot=True, cmap='coolwarm')\n",
    "plt.title(\"Feature Correlation Matrix\")\n",
    "plt.show()\n",
    "\n",
    "\n"
   ]
  },
  {
   "cell_type": "code",
   "execution_count": 15,
   "id": "8adc9680-dea2-441d-9a69-79ad83ad9209",
   "metadata": {},
   "outputs": [
    {
     "data": {
      "image/png": "[encoded data removed]",
      "text/plain": [
       "<Figure size 1400x600 with 1 Axes>"
      ]
     },
     "metadata": {},
     "output_type": "display_data"
    }
   ],
   "source": [
    "# Rolling volatility\n",
    "data['Volatility'] = data['Close'].rolling(window=20).std()\n",
    "plt.figure(figsize=(14, 6))\n",
    "plt.plot(data['Volatility'], label='20-day Volatility')\n",
    "plt.title(\"Rolling Volatility\")\n",
    "plt.legend()\n",
    "plt.show()"
   ]
  },
  {
   "cell_type": "code",
   "execution_count": null,
   "id": "69dabf2e-846d-4310-a49f-2ceac499190c",
   "metadata": {},
   "outputs": [],
   "source": []
  },
  {
   "cell_type": "code",
   "execution_count": null,
   "id": "07094f69-d6f2-456e-a261-8b76da414a64",
   "metadata": {},
   "outputs": [],
   "source": []
  }
 ],
 "metadata": {
  "kernelspec": {
   "display_name": "Python 3 (ipykernel)",
   "language": "python",
   "name": "python3"
  },
  "language_info": {
   "codemirror_mode": {
    "name": "ipython",
    "version": 3
   },
   "file_extension": ".py",
   "mimetype": "text/x-python",
   "name": "python",
   "nbconvert_exporter": "python",
   "pygments_lexer": "ipython3",
   "version": "3.11.9"
  }
 },
 "nbformat": 4,
 "nbformat_minor": 5
}
